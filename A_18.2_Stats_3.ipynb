{
 "cells": [
  {
   "cell_type": "code",
   "execution_count": null,
   "metadata": {},
   "outputs": [],
   "source": [
    "\"\"\"\n",
    "\n",
    "Problem Statement 1:\n",
    "\n",
    "In one state, 52% of the voters are Republicans, and 48% are Democrats. In a second\n",
    "state, 47% of the voters are Republicans, and 53% are Democrats. Suppose a simple\n",
    "random sample of 100 voters are surveyed from each state.\n",
    "What is the probability that the survey will show a greater percentage of Republican\n",
    "voters in the second state than in the first state?\n",
    "\n",
    "\"\"\""
   ]
  },
  {
   "cell_type": "code",
   "execution_count": null,
   "metadata": {},
   "outputs": [],
   "source": [
    "\"\"\"\n",
    "\n",
    "ANSWER :\n",
    "\n",
    "\n",
    "\n",
    "This problem is based on difference between proportions principle.\n",
    "\n",
    "First we check if sample size is big enough to warrant modeling differences  normal distribution.\n",
    "Sample size bigger than 30 is generally sufficient.\n",
    "\n",
    "P1 : Proportion of republicans in first state.\n",
    "P2 : Proportion of republicans in second state.\n",
    "p1 : Proportion of republicans in sample drawn from first state.\n",
    "p2 : Proportion of republicans in sample drawn from second state.\n",
    "\n",
    "n1P1= 100 * .52 = 52\n",
    "n1(1-P1) = 48\n",
    "n2P2= 100 * .47 = 47\n",
    "n2(1.P2)= 53 \n",
    "\n",
    "All samples are bigger than 30. \n",
    "\n",
    "Secondly we calculate mean of difference in sample.\n",
    "E(p1 - p2) = P1-P2 = .52-.47 = .05\n",
    "\n",
    "Then we find Standard deviation of difference:\n",
    "\n",
    "Std deviation of difference is the sum of the standard deviation of both sample space.\n",
    " Sigma(difference) = sqrt{ [ P1(1-P1)/n1] + [P2(1-P2)/n2]}\n",
    " = 0.076\n",
    "\n",
    "\n",
    "Problem set wants us to find probability that p2 is greater than p1.\n",
    "\n",
    "p1-p2 < 0 \n",
    "\n",
    "We find the probability through Z-score.\n",
    "\n",
    "Z score  of p1-p2 = x - mean(p1-p2)/ std. dev\n",
    "\n",
    "= 0 - .05 / .076\n",
    "\n",
    "= -0.7082 \n",
    "\n",
    "On checking z-score it is equivalent to 24 percent, which is our answer.\n",
    "\"\"\""
   ]
  }
 ],
 "metadata": {
  "kernelspec": {
   "display_name": "Python 3",
   "language": "python",
   "name": "python3"
  },
  "language_info": {
   "codemirror_mode": {
    "name": "ipython",
    "version": 3
   },
   "file_extension": ".py",
   "mimetype": "text/x-python",
   "name": "python",
   "nbconvert_exporter": "python",
   "pygments_lexer": "ipython3",
   "version": "3.5.6"
  }
 },
 "nbformat": 4,
 "nbformat_minor": 2
}
